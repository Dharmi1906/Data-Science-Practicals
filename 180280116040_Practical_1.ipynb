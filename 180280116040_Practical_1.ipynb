{
 "cells": [
  {
   "cell_type": "markdown",
   "metadata": {},
   "source": [
    "\n",
    "Perform Descriptive analysis and identify the data type. 1) Count Total no. of students in data set 2) Calculate mean of the marks for each subject 3) Find the highest and lowest marks in each subject in given data set 4) Count total no of male and female in dataset."
   ]
  },
  {
   "cell_type": "code",
   "execution_count": 9,
   "metadata": {},
   "outputs": [],
   "source": [
    "import pandas as pd\n",
    "import numpy as np"
   ]
  },
  {
   "cell_type": "code",
   "execution_count": 27,
   "metadata": {},
   "outputs": [
    {
     "data": {
      "text/html": [
       "<div>\n",
       "<style scoped>\n",
       "    .dataframe tbody tr th:only-of-type {\n",
       "        vertical-align: middle;\n",
       "    }\n",
       "\n",
       "    .dataframe tbody tr th {\n",
       "        vertical-align: top;\n",
       "    }\n",
       "\n",
       "    .dataframe thead th {\n",
       "        text-align: right;\n",
       "    }\n",
       "</style>\n",
       "<table border=\"1\" class=\"dataframe\">\n",
       "  <thead>\n",
       "    <tr style=\"text-align: right;\">\n",
       "      <th></th>\n",
       "      <th>Name</th>\n",
       "      <th>Enrollment No</th>\n",
       "      <th>Gender</th>\n",
       "      <th>Contact</th>\n",
       "      <th>City</th>\n",
       "      <th>DS</th>\n",
       "      <th>PEM</th>\n",
       "      <th>OS</th>\n",
       "      <th>OOPJ</th>\n",
       "      <th>COA</th>\n",
       "      <th>DM</th>\n",
       "    </tr>\n",
       "  </thead>\n",
       "  <tbody>\n",
       "    <tr>\n",
       "      <td>0</td>\n",
       "      <td>Atif</td>\n",
       "      <td>180280116001</td>\n",
       "      <td>Male</td>\n",
       "      <td>8733097294</td>\n",
       "      <td>Ahmedabad</td>\n",
       "      <td>68</td>\n",
       "      <td>92</td>\n",
       "      <td>88</td>\n",
       "      <td>98</td>\n",
       "      <td>82</td>\n",
       "      <td>90</td>\n",
       "    </tr>\n",
       "    <tr>\n",
       "      <td>1</td>\n",
       "      <td>Bhautikkumar</td>\n",
       "      <td>180280116002</td>\n",
       "      <td>Male</td>\n",
       "      <td>7946311401</td>\n",
       "      <td>Vadodara</td>\n",
       "      <td>81</td>\n",
       "      <td>66</td>\n",
       "      <td>85</td>\n",
       "      <td>95</td>\n",
       "      <td>88</td>\n",
       "      <td>74</td>\n",
       "    </tr>\n",
       "    <tr>\n",
       "      <td>2</td>\n",
       "      <td>Shani</td>\n",
       "      <td>180280116003</td>\n",
       "      <td>Male</td>\n",
       "      <td>9774309197</td>\n",
       "      <td>Chhota Udaipur</td>\n",
       "      <td>96</td>\n",
       "      <td>66</td>\n",
       "      <td>86</td>\n",
       "      <td>80</td>\n",
       "      <td>83</td>\n",
       "      <td>61</td>\n",
       "    </tr>\n",
       "    <tr>\n",
       "      <td>3</td>\n",
       "      <td>Nachiketa</td>\n",
       "      <td>180280116004</td>\n",
       "      <td>Male</td>\n",
       "      <td>7385020101</td>\n",
       "      <td>Ahmedabad</td>\n",
       "      <td>71</td>\n",
       "      <td>99</td>\n",
       "      <td>93</td>\n",
       "      <td>81</td>\n",
       "      <td>92</td>\n",
       "      <td>63</td>\n",
       "    </tr>\n",
       "    <tr>\n",
       "      <td>4</td>\n",
       "      <td>Sumitkumar</td>\n",
       "      <td>180280116005</td>\n",
       "      <td>Male</td>\n",
       "      <td>7654089401</td>\n",
       "      <td>Vadodara</td>\n",
       "      <td>62</td>\n",
       "      <td>74</td>\n",
       "      <td>82</td>\n",
       "      <td>100</td>\n",
       "      <td>84</td>\n",
       "      <td>97</td>\n",
       "    </tr>\n",
       "    <tr>\n",
       "      <td>5</td>\n",
       "      <td>Rohitbhai</td>\n",
       "      <td>180280116006</td>\n",
       "      <td>Male</td>\n",
       "      <td>7746548969</td>\n",
       "      <td>Anand</td>\n",
       "      <td>81</td>\n",
       "      <td>96</td>\n",
       "      <td>83</td>\n",
       "      <td>84</td>\n",
       "      <td>100</td>\n",
       "      <td>66</td>\n",
       "    </tr>\n",
       "    <tr>\n",
       "      <td>6</td>\n",
       "      <td>Kamiyabhusen</td>\n",
       "      <td>180280116007</td>\n",
       "      <td>Male</td>\n",
       "      <td>7553373270</td>\n",
       "      <td>Chhota Udaipur</td>\n",
       "      <td>88</td>\n",
       "      <td>69</td>\n",
       "      <td>96</td>\n",
       "      <td>83</td>\n",
       "      <td>88</td>\n",
       "      <td>90</td>\n",
       "    </tr>\n",
       "    <tr>\n",
       "      <td>7</td>\n",
       "      <td>Hemangini</td>\n",
       "      <td>180280116008</td>\n",
       "      <td>Female</td>\n",
       "      <td>8984361224</td>\n",
       "      <td>Dahod</td>\n",
       "      <td>70</td>\n",
       "      <td>92</td>\n",
       "      <td>88</td>\n",
       "      <td>98</td>\n",
       "      <td>85</td>\n",
       "      <td>68</td>\n",
       "    </tr>\n",
       "    <tr>\n",
       "      <td>8</td>\n",
       "      <td>Krutik</td>\n",
       "      <td>180280116009</td>\n",
       "      <td>Male</td>\n",
       "      <td>9495872446</td>\n",
       "      <td>Kheda</td>\n",
       "      <td>81</td>\n",
       "      <td>81</td>\n",
       "      <td>91</td>\n",
       "      <td>77</td>\n",
       "      <td>94</td>\n",
       "      <td>71</td>\n",
       "    </tr>\n",
       "    <tr>\n",
       "      <td>9</td>\n",
       "      <td>Ujas</td>\n",
       "      <td>180280116010</td>\n",
       "      <td>Male</td>\n",
       "      <td>6857273054</td>\n",
       "      <td>Mahisagar</td>\n",
       "      <td>68</td>\n",
       "      <td>90</td>\n",
       "      <td>70</td>\n",
       "      <td>75</td>\n",
       "      <td>100</td>\n",
       "      <td>84</td>\n",
       "    </tr>\n",
       "  </tbody>\n",
       "</table>\n",
       "</div>"
      ],
      "text/plain": [
       "           Name   Enrollment No   Gender     Contact            City  DS  PEM  \\\n",
       "0          Atif     180280116001    Male  8733097294       Ahmedabad  68   92   \n",
       "1  Bhautikkumar     180280116002    Male  7946311401        Vadodara  81   66   \n",
       "2         Shani     180280116003    Male  9774309197  Chhota Udaipur  96   66   \n",
       "3     Nachiketa     180280116004    Male  7385020101       Ahmedabad  71   99   \n",
       "4    Sumitkumar     180280116005    Male  7654089401        Vadodara  62   74   \n",
       "5     Rohitbhai     180280116006    Male  7746548969           Anand  81   96   \n",
       "6  Kamiyabhusen     180280116007    Male  7553373270  Chhota Udaipur  88   69   \n",
       "7     Hemangini     180280116008  Female  8984361224           Dahod  70   92   \n",
       "8        Krutik     180280116009    Male  9495872446           Kheda  81   81   \n",
       "9          Ujas     180280116010    Male  6857273054       Mahisagar  68   90   \n",
       "\n",
       "   OS  OOPJ  COA  DM  \n",
       "0  88    98   82  90  \n",
       "1  85    95   88  74  \n",
       "2  86    80   83  61  \n",
       "3  93    81   92  63  \n",
       "4  82   100   84  97  \n",
       "5  83    84  100  66  \n",
       "6  96    83   88  90  \n",
       "7  88    98   85  68  \n",
       "8  91    77   94  71  \n",
       "9  70    75  100  84  "
      ]
     },
     "execution_count": 27,
     "metadata": {},
     "output_type": "execute_result"
    }
   ],
   "source": [
    "#getting data-frame from csv file\n",
    "df = pd.read_csv(r'C:\\Users\\HP\\Downloads\\dataset\\Student.csv')\n",
    "df.head(n=10)"
   ]
  },
  {
   "cell_type": "code",
   "execution_count": 11,
   "metadata": {},
   "outputs": [
    {
     "name": "stdout",
     "output_type": "stream",
     "text": [
      "<class 'pandas.core.frame.DataFrame'>\n",
      "RangeIndex: 999 entries, 0 to 998\n",
      "Data columns (total 11 columns):\n",
      "Name               999 non-null object\n",
      " Enrollment No     999 non-null float64\n",
      "Gender             999 non-null object\n",
      "Contact            999 non-null int64\n",
      "City               999 non-null object\n",
      "DS                 999 non-null int64\n",
      "PEM                999 non-null int64\n",
      "OS                 999 non-null int64\n",
      "OOPJ               999 non-null int64\n",
      "COA                999 non-null int64\n",
      "DM                 999 non-null int64\n",
      "dtypes: float64(1), int64(7), object(3)\n",
      "memory usage: 86.0+ KB\n"
     ]
    }
   ],
   "source": [
    "#getting summary about every columns\n",
    "df.info()"
   ]
  },
  {
   "cell_type": "markdown",
   "metadata": {},
   "source": [
    "Descriptive states describing observations\n",
    "\n",
    "1. Mean\n",
    "2. Median\n",
    "3. Sum\n",
    "4. Max, Min"
   ]
  },
  {
   "cell_type": "code",
   "execution_count": 12,
   "metadata": {},
   "outputs": [
    {
     "name": "stdout",
     "output_type": "stream",
     "text": [
      "Total Students:999\n"
     ]
    }
   ],
   "source": [
    "#counting students\n",
    "s_count = df.count().Name\n",
    "print(f'Total Students:{s_count}')"
   ]
  },
  {
   "cell_type": "code",
   "execution_count": 13,
   "metadata": {},
   "outputs": [
    {
     "name": "stdout",
     "output_type": "stream",
     "text": [
      "     PEM  OS  COA  DM  OOPJ\n",
      "0     92  88   82  90    98\n",
      "1     66  85   88  74    95\n",
      "2     66  86   83  61    80\n",
      "3     99  93   92  63    81\n",
      "4     74  82   84  97   100\n",
      "..   ...  ..  ...  ..   ...\n",
      "994   93  87   79  66    73\n",
      "995   67  73   97  65    79\n",
      "996   66  82  100  82    86\n",
      "997   81  99   82  79    74\n",
      "998   85  76   96  83    86\n",
      "\n",
      "[999 rows x 5 columns]\n"
     ]
    },
    {
     "data": {
      "text/html": [
       "<div>\n",
       "<style scoped>\n",
       "    .dataframe tbody tr th:only-of-type {\n",
       "        vertical-align: middle;\n",
       "    }\n",
       "\n",
       "    .dataframe tbody tr th {\n",
       "        vertical-align: top;\n",
       "    }\n",
       "\n",
       "    .dataframe thead th {\n",
       "        text-align: right;\n",
       "    }\n",
       "</style>\n",
       "<table border=\"1\" class=\"dataframe\">\n",
       "  <thead>\n",
       "    <tr style=\"text-align: right;\">\n",
       "      <th></th>\n",
       "      <th>PEM</th>\n",
       "      <th>OS</th>\n",
       "      <th>COA</th>\n",
       "      <th>DM</th>\n",
       "      <th>OOPJ</th>\n",
       "    </tr>\n",
       "  </thead>\n",
       "  <tbody>\n",
       "    <tr>\n",
       "      <td>mean</td>\n",
       "      <td>82.457457</td>\n",
       "      <td>85.368368</td>\n",
       "      <td>89.152152</td>\n",
       "      <td>80.329329</td>\n",
       "      <td>85.574575</td>\n",
       "    </tr>\n",
       "    <tr>\n",
       "      <td>median</td>\n",
       "      <td>83.000000</td>\n",
       "      <td>86.000000</td>\n",
       "      <td>90.000000</td>\n",
       "      <td>81.000000</td>\n",
       "      <td>86.000000</td>\n",
       "    </tr>\n",
       "    <tr>\n",
       "      <td>amin</td>\n",
       "      <td>65.000000</td>\n",
       "      <td>70.000000</td>\n",
       "      <td>78.000000</td>\n",
       "      <td>60.000000</td>\n",
       "      <td>71.000000</td>\n",
       "    </tr>\n",
       "    <tr>\n",
       "      <td>amax</td>\n",
       "      <td>100.000000</td>\n",
       "      <td>100.000000</td>\n",
       "      <td>100.000000</td>\n",
       "      <td>100.000000</td>\n",
       "      <td>100.000000</td>\n",
       "    </tr>\n",
       "  </tbody>\n",
       "</table>\n",
       "</div>"
      ],
      "text/plain": [
       "               PEM          OS         COA          DM        OOPJ\n",
       "mean     82.457457   85.368368   89.152152   80.329329   85.574575\n",
       "median   83.000000   86.000000   90.000000   81.000000   86.000000\n",
       "amin     65.000000   70.000000   78.000000   60.000000   71.000000\n",
       "amax    100.000000  100.000000  100.000000  100.000000  100.000000"
      ]
     },
     "execution_count": 13,
     "metadata": {},
     "output_type": "execute_result"
    }
   ],
   "source": [
    "subjects = [\"PEM\", \"OS\", \"COA\", \"DM\", \"OOPJ\"]\n",
    "#getting subject data-frame\n",
    "subject_df = df.loc[:, subjects]\n",
    "print(subject_df)\n",
    "\n",
    "#finding mean, median, max and min using agg()\n",
    "subject_df.agg([np.mean,np.median,np.min,np.max])"
   ]
  },
  {
   "cell_type": "markdown",
   "metadata": {},
   "source": [
    "Descriptive states describing variable spread\n",
    "\n",
    "1. Variance\n",
    "2. Standard deviation\n",
    "3. Counts\n",
    "4. Quartiles"
   ]
  },
  {
   "cell_type": "code",
   "execution_count": 17,
   "metadata": {},
   "outputs": [
    {
     "name": "stdout",
     "output_type": "stream",
     "text": [
      "Total Females    512\n",
      "Total Males      487\n",
      "Name: Gender, dtype: int64\n"
     ]
    }
   ],
   "source": [
    "#counting number of male and female students\n",
    "gender_counts = df.Gender.value_counts()\n",
    "gender_counts.index = [\"Total Females\", \"Total Males\"]\n",
    "print(gender_counts)"
   ]
  },
  {
   "cell_type": "code",
   "execution_count": 19,
   "metadata": {},
   "outputs": [
    {
     "name": "stdout",
     "output_type": "stream",
     "text": [
      "Females(%)    51.251251\n",
      "Males(%)      48.748749\n",
      "Name: Gender, dtype: float64\n"
     ]
    }
   ],
   "source": [
    "#getting gender by proportion\n",
    "norm_gender_count = df.Gender.value_counts(normalize = True)\n",
    "norm_gender_count.index=[\"Females(%)\", \"Males(%)\"]\n",
    "print(norm_gender_count*100)"
   ]
  },
  {
   "cell_type": "code",
   "execution_count": 21,
   "metadata": {},
   "outputs": [
    {
     "data": {
      "text/plain": [
       "PEM     105.639220\n",
       "OS       83.699840\n",
       "OOPJ     75.587369\n",
       "COA      43.880634\n",
       "DM      144.419490\n",
       "dtype: float64"
      ]
     },
     "execution_count": 21,
     "metadata": {},
     "output_type": "execute_result"
    }
   ],
   "source": [
    "#variance in marks of subject\n",
    "df.var()[\"PEM\":]"
   ]
  },
  {
   "cell_type": "code",
   "execution_count": 22,
   "metadata": {},
   "outputs": [
    {
     "data": {
      "text/plain": [
       "PEM     10.278094\n",
       "OS       9.148762\n",
       "OOPJ     8.694100\n",
       "COA      6.624246\n",
       "DM      12.017466\n",
       "dtype: float64"
      ]
     },
     "execution_count": 22,
     "metadata": {},
     "output_type": "execute_result"
    }
   ],
   "source": [
    "#standard deviation in marks of subject\n",
    "df.std()[\"PEM\":]"
   ]
  },
  {
   "cell_type": "code",
   "execution_count": 25,
   "metadata": {},
   "outputs": [],
   "source": [
    "def iqr(column):\n",
    "    \"\"\"\n",
    "    This function finds the inter quartile range.\n",
    "            75th percentile - 25th percentile\n",
    "    Parameters\n",
    "    -----------\n",
    "            column: column whose iqr is to be known\n",
    "            \n",
    "    Returns\n",
    "        ------------\n",
    "            the inter quartile range of specified column\n",
    "    \"\"\"\n",
    "    return column.quantile(.75) - column.quantile(.25)"
   ]
  },
  {
   "cell_type": "code",
   "execution_count": 26,
   "metadata": {},
   "outputs": [
    {
     "data": {
      "text/plain": [
       "PEM     17.0\n",
       "OS      16.0\n",
       "COA     11.0\n",
       "DM      22.0\n",
       "OOPJ    15.0\n",
       "dtype: float64"
      ]
     },
     "execution_count": 26,
     "metadata": {},
     "output_type": "execute_result"
    }
   ],
   "source": [
    "#finding iqr of every subject marks\n",
    "subject_df.agg(iqr)"
   ]
  },
  {
   "cell_type": "code",
   "execution_count": null,
   "metadata": {},
   "outputs": [],
   "source": []
  }
 ],
 "metadata": {
  "kernelspec": {
   "display_name": "Python 3",
   "language": "python",
   "name": "python3"
  },
  "language_info": {
   "codemirror_mode": {
    "name": "ipython",
    "version": 3
   },
   "file_extension": ".py",
   "mimetype": "text/x-python",
   "name": "python",
   "nbconvert_exporter": "python",
   "pygments_lexer": "ipython3",
   "version": "3.7.4"
  }
 },
 "nbformat": 4,
 "nbformat_minor": 2
}
